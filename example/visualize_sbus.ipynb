{
 "cells": [
  {
   "cell_type": "code",
   "execution_count": null,
   "id": "e1d518ec",
   "metadata": {},
   "outputs": [],
   "source": [
    "from tobascco import tobascco as tb\n",
    "from tobascco.sbu import SBU\n",
    "from rdkit.Chem import AllChem as Chem"
   ]
  },
  {
   "cell_type": "code",
   "execution_count": null,
   "id": "44e49240",
   "metadata": {},
   "outputs": [],
   "source": [
    "options = tb.config.Options()\n",
    "job = tb.JobHandler(options)\n",
    "options.overlap_tolerance = 0.0"
   ]
  },
  {
   "cell_type": "markdown",
   "id": "b907eeeb",
   "metadata": {},
   "source": [
    "#### Metal SBU read "
   ]
  },
  {
   "cell_type": "code",
   "execution_count": null,
   "id": "53d60ce3",
   "metadata": {},
   "outputs": [],
   "source": [
    "m_sbu = SBU()\n",
    "# Set old_format=True if file was created with 'dummy atoms' indicating SBU connection points. (Xe,Re)\n",
    "m_sbu.metal_from_file('m45.mol', old_format=True) # old_format has 'Xe' and 'Kr' atoms to represent connection vectors.\n",
    "m_sbu.identifier = 45 # set sbu.identifier NOT sbu.index. The cif file will not indicate the correct indices otherwise.\n",
    "display(m_sbu) # flat version of the processed SBU file\n",
    "view = m_sbu.visualize_sbu() # 3D representation with connection vectors. Requires ASE and nglview modules.\n",
    "view"
   ]
  },
  {
   "cell_type": "markdown",
   "id": "9d9e338d",
   "metadata": {},
   "source": [
    "#### Organic SBU read"
   ]
  },
  {
   "cell_type": "code",
   "execution_count": null,
   "id": "01ef41d1",
   "metadata": {},
   "outputs": [],
   "source": [
    "o_sbu = SBU()\n",
    "o_sbu.organic_from_file('o1.mol', old_format=True)\n",
    "o_sbu.identifier = 1 # set sbu.identifier NOT sbu.index. The cif file will not indicate the correct indices otherwise.\n",
    "display(o_sbu) # flat version of the processed SBU file. -9 formal charge on carbons represent bonding sites to other SBUs\n",
    "view = o_sbu.visualize_sbu()\n",
    "view"
   ]
  },
  {
   "cell_type": "markdown",
   "id": "e6828bd5",
   "metadata": {},
   "source": [
    "#### Read in database files"
   ]
  },
  {
   "cell_type": "code",
   "execution_count": null,
   "id": "829508eb",
   "metadata": {},
   "outputs": [],
   "source": [
    "# old SBU files come with code in the data/sbu folder\n",
    "job._read_sbu_database_files()\n",
    "# old net files come with code in the data/arc folder\n",
    "job._read_topology_database_files()"
   ]
  },
  {
   "cell_type": "markdown",
   "id": "692cb6c3",
   "metadata": {},
   "source": [
    "Build the MOF with the **pcu** topology"
   ]
  },
  {
   "cell_type": "code",
   "execution_count": null,
   "id": "a70f822d",
   "metadata": {},
   "outputs": [],
   "source": [
    "struct, net = job._build_structure([m_sbu, o_sbu], 'pcu')"
   ]
  },
  {
   "cell_type": "markdown",
   "id": "897dc61a",
   "metadata": {},
   "source": [
    "#### visualize the resulting cif file (note bonds are drawn by the visualization program and not read from the cif file)"
   ]
  },
  {
   "cell_type": "code",
   "execution_count": null,
   "id": "ab1a0b84",
   "metadata": {},
   "outputs": [],
   "source": [
    "import nglview as nv  # for visualizing CIF file\n",
    "struct.write_cif()\n",
    "view = nv.show_file(\"{0:s}.cif\".format(struct.name))\n",
    "print(\"Structure written to {0:s}.cif\".format(struct.name))\n",
    "view.camera = 'orthographic'\n",
    "view.add_unitcell()\n",
    "view"
   ]
  },
  {
   "cell_type": "code",
   "execution_count": null,
   "id": "657f2993",
   "metadata": {},
   "outputs": [],
   "source": []
  }
 ],
 "metadata": {
  "kernelspec": {
   "display_name": "Python 3 (ipykernel)",
   "language": "python",
   "name": "python3"
  },
  "language_info": {
   "codemirror_mode": {
    "name": "ipython",
    "version": 3
   },
   "file_extension": ".py",
   "mimetype": "text/x-python",
   "name": "python",
   "nbconvert_exporter": "python",
   "pygments_lexer": "ipython3",
   "version": "3.7.11"
  }
 },
 "nbformat": 4,
 "nbformat_minor": 5
}
