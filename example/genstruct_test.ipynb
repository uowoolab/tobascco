{
 "cells": [
  {
   "cell_type": "code",
   "execution_count": null,
   "id": "b2f7fab0",
   "metadata": {},
   "outputs": [],
   "source": [
    "from tobascco import tobascco as tb\n",
    "from tobascco.sbu import SBU"
   ]
  },
  {
   "cell_type": "markdown",
   "id": "5ca9b63d",
   "metadata": {},
   "source": [
    "Making SBUs with RODs requires making special connection sites\n",
    " * one connection site (called site 1) MUST connect to another site (called site 2)\n",
    " * the program is dumb and will try all possible bonds to other SBUs and itself. So there has to be some measure that site 1 won't bond to itself, either in a cloned SBU, or via a periodic boundary.\n",
    " * special sites are presented in to the code by using the Actinide series of atoms in lieu of the Xe atom.\n",
    " * the atomic numbers range from 89 to 102\n",
    " * the code recognizes that N=89 Actinum will connect to atoms N=90 Thorium and vice versa (i.e. 89<=>90)\n",
    " * ~~but NOT (89<=>89) or (90<=>90). The code will never try these.~~\n",
    " * this is the same for all actinides. i.e. (91<=>92), (93<=>94) ... and so on.\n",
    " * thus there is opportunity to parameterize 7 possible special bonds."
   ]
  },
  {
   "cell_type": "code",
   "execution_count": null,
   "id": "51d65268",
   "metadata": {},
   "outputs": [],
   "source": [
    "options = tb.config.Options()\n",
    "options.organic_sbu_per_structure = 2 # default is 1.\n",
    "job = tb.JobHandler(options)\n",
    "job._from_config('met8test.dat')\n",
    "m8 = job.sbu_pool[0]\n",
    "view = m8.visualize_sbu()\n",
    "view"
   ]
  },
  {
   "cell_type": "markdown",
   "id": "f7394e34",
   "metadata": {},
   "source": [
    "TODO: build_structures_from_genstruct is an iterative method over all possible SBU combinations. Create a routine that will build a single structure from a SBU combo."
   ]
  },
  {
   "cell_type": "code",
   "execution_count": null,
   "id": "93ef3831",
   "metadata": {},
   "outputs": [],
   "source": [
    "struct = job.build_structures_from_genstruct(job.sbu_pool)\n",
    "struct.write_cif()"
   ]
  },
  {
   "cell_type": "markdown",
   "id": "2bce2af0",
   "metadata": {},
   "source": [
    "#### View the CIF file generated"
   ]
  },
  {
   "cell_type": "code",
   "execution_count": null,
   "id": "dfc62370",
   "metadata": {},
   "outputs": [],
   "source": [
    "import nglview as nv  # for visualizing CIF file\n",
    "print(struct.name)\n",
    "view = nv.show_file(\"{0:s}.cif\".format(struct.name))\n",
    "view.camera = 'orthographic'\n",
    "view.add_unitcell()\n",
    "view"
   ]
  }
 ],
 "metadata": {
  "kernelspec": {
   "display_name": "Python 3 (ipykernel)",
   "language": "python",
   "name": "python3"
  },
  "language_info": {
   "codemirror_mode": {
    "name": "ipython",
    "version": 3
   },
   "file_extension": ".py",
   "mimetype": "text/x-python",
   "name": "python",
   "nbconvert_exporter": "python",
   "pygments_lexer": "ipython3",
   "version": "3.7.11"
  }
 },
 "nbformat": 4,
 "nbformat_minor": 5
}
