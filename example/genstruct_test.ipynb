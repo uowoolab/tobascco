{
 "cells": [
  {
   "cell_type": "code",
   "execution_count": null,
   "id": "b2f7fab0",
   "metadata": {},
   "outputs": [],
   "source": [
    "from tobascco import tobascco as tb\n",
    "from tobascco.sbu import SBU"
   ]
  },
  {
   "cell_type": "code",
   "execution_count": null,
   "id": "51d65268",
   "metadata": {},
   "outputs": [],
   "source": [
    "options = tb.config.Options()\n",
    "job = tb.JobHandler(options)\n",
    "job._from_config('met8test.dat')\n",
    "m8 = job.sbu_pool[0]\n",
    "view = m8.visualize_sbu()\n",
    "view"
   ]
  },
  {
   "cell_type": "markdown",
   "id": "f7394e34",
   "metadata": {},
   "source": [
    "TODO: build_structures_from_genstruct is an iterative method over all possible SBU combinations. Create a routine that will build a single structure from a SBU combo."
   ]
  },
  {
   "cell_type": "code",
   "execution_count": null,
   "id": "93ef3831",
   "metadata": {},
   "outputs": [],
   "source": [
    "struct = job.build_structures_from_genstruct(job.sbu_pool)\n",
    "struct.write_cif()"
   ]
  },
  {
   "cell_type": "markdown",
   "id": "2bce2af0",
   "metadata": {},
   "source": [
    "#### View the CIF file generated"
   ]
  },
  {
   "cell_type": "code",
   "execution_count": null,
   "id": "dfc62370",
   "metadata": {},
   "outputs": [],
   "source": [
    "import nglview as nv  # for visualizing CIF file\n",
    "\n",
    "view = nv.show_file(\"{0:s}.cif\".format(struct.name))\n",
    "view.camera = 'orthographic'\n",
    "view.add_unitcell()\n",
    "view"
   ]
  }
 ],
 "metadata": {
  "kernelspec": {
   "display_name": "Python 3 (ipykernel)",
   "language": "python",
   "name": "python3"
  },
  "language_info": {
   "codemirror_mode": {
    "name": "ipython",
    "version": 3
   },
   "file_extension": ".py",
   "mimetype": "text/x-python",
   "name": "python",
   "nbconvert_exporter": "python",
   "pygments_lexer": "ipython3",
   "version": "3.7.11"
  }
 },
 "nbformat": 4,
 "nbformat_minor": 5
}
