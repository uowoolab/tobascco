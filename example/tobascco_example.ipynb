{
 "cells": [
  {
   "cell_type": "code",
   "execution_count": null,
   "id": "943673c9",
   "metadata": {},
   "outputs": [],
   "source": [
    "from tobascco import tobascco as tb # main tobascco program\n",
    "from tobascco.sbu import SBU # this is an inherited Molecule class from rdkit\n",
    "from rdkit.Chem import AllChem as Chem\n",
    "\n",
    "options = tb.config.Options()\n",
    "job = tb.JobHandler(options)\n",
    "\n",
    "options.metal_sbus = [2]\n",
    "#options.organic_sbus = [30]\n",
    "options.overlap_tolerance = 0.0\n",
    "\n",
    "# create SBUs from smiles\n",
    "sbu_smiles = \"C1=C(C=C(C=C1C(=O)[O-])C(=O)[O-])C(=O)[O-]\"\n",
    "o = SBU(Chem.MolFromSmiles(sbu_smiles))\n",
    "display(o)\n",
    "o.interpret_rdkit_RWMOL()\n",
    "\n",
    "# Currently set parameters by hand..\n",
    "o.is_metal = False\n",
    "o.index = 30\n",
    "o.charge = 0.0\n",
    "o.name = 'Benzene-tri-carboxylate'\n"
   ]
  },
  {
   "cell_type": "markdown",
   "id": "c22f8ba7",
   "metadata": {},
   "source": [
    "### Reads in .mol files\n",
    "* originally a small script was created to convert .mol files to a tobascco-readable file.\n",
    "* now just reads them directly"
   ]
  },
  {
   "cell_type": "code",
   "execution_count": null,
   "id": "9091ea2e",
   "metadata": {},
   "outputs": [],
   "source": [
    "file = \"BDC.mol\"\n",
    "b = SBU()\n",
    "# Set old_format=True if file was created with 'dummy atoms' indicating SBU connection points. (Xe,Re)\n",
    "b.organic_from_file(file, old_format=False)\n",
    "display(b)"
   ]
  },
  {
   "cell_type": "markdown",
   "id": "1b92b65e",
   "metadata": {},
   "source": [
    "### Create hypothetical cifs"
   ]
  },
  {
   "cell_type": "code",
   "execution_count": null,
   "id": "f2038260",
   "metadata": {
    "scrolled": false
   },
   "outputs": [],
   "source": [
    "import nglview as nv  # for visualizing CIF file\n",
    "\n",
    "# old SBU files come with code in the data/sbu folder\n",
    "job._read_sbu_database_files()\n",
    "# old net files come with code in the data/arc folder\n",
    "job._read_topology_database_files()\n",
    "\n",
    "# add the metal SBU to the list (copper paddlewheel)\n",
    "sbu_combo = [i for i in job.sbu_pool if \n",
    "             i.is_metal and i.identifier in \n",
    "             options.metal_sbus]\n",
    "# add the BTC linker from the smiles key above.\n",
    "sbu_combo.append(o)\n",
    "\n",
    "struct = job._build_structure(sbu_combo, 'fof')\n",
    "# struct.write_cif()\n",
    "view = nv.show_file(\"{0:s}.cif\".format(struct.name))\n",
    "view.camera = 'orthographic'\n",
    "view.add_unitcell()\n",
    "view"
   ]
  },
  {
   "cell_type": "code",
   "execution_count": null,
   "id": "b3e2aaee",
   "metadata": {},
   "outputs": [],
   "source": []
  }
 ],
 "metadata": {
  "kernelspec": {
   "display_name": "Python 3 (ipykernel)",
   "language": "python",
   "name": "python3"
  },
  "language_info": {
   "codemirror_mode": {
    "name": "ipython",
    "version": 3
   },
   "file_extension": ".py",
   "mimetype": "text/x-python",
   "name": "python",
   "nbconvert_exporter": "python",
   "pygments_lexer": "ipython3",
   "version": "3.7.11"
  }
 },
 "nbformat": 4,
 "nbformat_minor": 5
}
